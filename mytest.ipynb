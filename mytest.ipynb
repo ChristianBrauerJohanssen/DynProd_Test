{
 "cells": [
  {
   "cell_type": "markdown",
   "id": "11001a40-3fe2-4467-abb5-27e3e49bb134",
   "metadata": {},
   "source": [
    "# My test notebook"
   ]
  },
  {
   "cell_type": "code",
   "execution_count": 18,
   "id": "13bbbceb-e860-4e74-b730-d6e8fc274777",
   "metadata": {},
   "outputs": [],
   "source": [
    "# import some packages\n",
    "import numpy as np\n",
    "import pandas as pd\n",
    "import matplotlib.pyplot as plot\n",
    "\n",
    "# set magics?\n"
   ]
  },
  {
   "cell_type": "code",
   "execution_count": 19,
   "id": "97792272-eb20-4fac-9506-db4fd425d4d4",
   "metadata": {},
   "outputs": [
    {
     "name": "stdout",
     "output_type": "stream",
     "text": [
      "[[1 2]\n",
      " [3 4]] [5 6]\n"
     ]
    }
   ],
   "source": [
    "# create some arrays\n",
    "a = np.array([[1,2],[3,4]])\n",
    "b = np.array([5,6])\n",
    "\n",
    "# print the arrays\n",
    "print(a,b)"
   ]
  },
  {
   "cell_type": "code",
   "execution_count": 20,
   "id": "8449a81b-3260-49af-ae69-23b2072cb9fb",
   "metadata": {},
   "outputs": [
    {
     "name": "stdout",
     "output_type": "stream",
     "text": [
      "[17 39]\n"
     ]
    }
   ],
   "source": [
    "# mmult a and b and print the result\n",
    "c = a@b\n",
    "print(c)"
   ]
  },
  {
   "cell_type": "code",
   "execution_count": null,
   "id": "d72defd2-ab93-4d7b-be2e-ae3fc5375d26",
   "metadata": {},
   "outputs": [],
   "source": []
  }
 ],
 "metadata": {
  "kernelspec": {
   "display_name": "Python 3 (ipykernel)",
   "language": "python",
   "name": "python3"
  },
  "language_info": {
   "codemirror_mode": {
    "name": "ipython",
    "version": 3
   },
   "file_extension": ".py",
   "mimetype": "text/x-python",
   "name": "python",
   "nbconvert_exporter": "python",
   "pygments_lexer": "ipython3",
   "version": "3.9.7"
  }
 },
 "nbformat": 4,
 "nbformat_minor": 5
}
